{
 "cells": [
  {
   "cell_type": "markdown",
   "metadata": {},
   "source": [
    "890 - Find and Replace Pattern\n",
    "\n",
    "You have a list of words and a pattern, and you want to know which words in words matches the pattern.\n",
    "\n",
    "A word matches the pattern if there exists a permutation of letters p so that after replacing every letter x in the pattern with p(x), we get the desired word.\n",
    "\n",
    "(Recall that a permutation of letters is a bijection from letters to letters: every letter maps to another letter, and no two letters map to the same letter.)\n",
    "\n",
    "Return a list of the words in words that match the given pattern. \n",
    "\n",
    "You may return the answer in any order.\n",
    "\n",
    " \n",
    "\n",
    "Example 1:\n",
    "\n",
    "Input: words = [\"abc\",\"deq\",\"mee\",\"aqq\",\"dkd\",\"ccc\"], pattern = \"abb\"\n",
    "    \n",
    "Output: [\"mee\",\"aqq\"]"
   ]
  },
  {
   "cell_type": "code",
   "execution_count": null,
   "metadata": {},
   "outputs": [],
   "source": [
    "# hash table \n",
    "# \n",
    "class Solution(object):\n",
    "    def findAndReplacePattern(self, words, pattern):\n",
    "        \"\"\"\n",
    "        :type words: List[str]\n",
    "        :type pattern: str\n",
    "        :rtype: List[str]\n",
    "        \"\"\"\n",
    "        results = []\n",
    "        for word in words:\n",
    "            # mapping of unique pattern letters to corresponding word letters \n",
    "            hash_table = {}\n",
    "            # word letters already used \n",
    "            used = set()\n",
    "            for i, char in enumerate(word):\n",
    "                # if pattern[i] not a key of hash_table, and the current char is not used previously \n",
    "                # add the mapping of pattern[i] -- char \n",
    "                if pattern[i] not in hash_table and char not in used:\n",
    "                    hash_table[pattern[i]] = char\n",
    "                    used.add(char)\n",
    "                # if pattern[i] was not added to hash_table from above step (char has been used by chars from \n",
    "                # pattern[:i], e.g., pattern = 'abb', word = 'ccc')\n",
    "                # or if the current char doen't match the mapping (e.g., pattern = 'abb', word = 'cde', 'b'\n",
    "                #  cannot be mapped to both d and e in word)\n",
    "                if (pattern[i] not in hash_table) or (char != hash_table[pattern[i]]):\n",
    "                    # not matched, reset hash_table, jump out of the current for loop \n",
    "                    hash_table = {}\n",
    "                    break\n",
    "            # if hash-table is not empty, matched  \n",
    "            if len(hash_table) > 0:\n",
    "                results.append(word)\n",
    "        return results         "
   ]
  }
 ],
 "metadata": {
  "kernelspec": {
   "display_name": "Python 3",
   "language": "python",
   "name": "python3"
  },
  "language_info": {
   "codemirror_mode": {
    "name": "ipython",
    "version": 3
   },
   "file_extension": ".py",
   "mimetype": "text/x-python",
   "name": "python",
   "nbconvert_exporter": "python",
   "pygments_lexer": "ipython3",
   "version": "3.6.8"
  }
 },
 "nbformat": 4,
 "nbformat_minor": 2
}
