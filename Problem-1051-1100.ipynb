{
 "cells": [
  {
   "cell_type": "markdown",
   "metadata": {},
   "source": [
    "1051 - Height Checker\n",
    "\n",
    "Students are asked to stand in non-decreasing order of heights for an annual photo.\n",
    "\n",
    "Return the minimum number of students not standing in the right positions.  (This is the number of students that must move in order for all students to be standing in non-decreasing order of height.)"
   ]
  },
  {
   "cell_type": "code",
   "execution_count": null,
   "metadata": {},
   "outputs": [],
   "source": [
    "class Solution(object):\n",
    "    def heightChecker(self, heights):\n",
    "        \"\"\"\n",
    "        :type heights: List[int]\n",
    "        :rtype: int\n",
    "        \"\"\"\n",
    "        if not heights:\n",
    "            return 0 \n",
    "        sorted_heights = sorted(heights)\n",
    "        count = 0 \n",
    "        for i in range(len(heights)):\n",
    "            if heights[i] != sorted_heights[i]:\n",
    "                count += 1 \n",
    "        return count \n",
    "        "
   ]
  },
  {
   "cell_type": "markdown",
   "metadata": {},
   "source": [
    "1068 -  Product Sales Analysis I\n"
   ]
  },
  {
   "cell_type": "code",
   "execution_count": null,
   "metadata": {},
   "outputs": [],
   "source": [
    "# Write your MySQL query statement below\n",
    "select b.product_name, a.year, a.price \n",
    "from Sales a join Product b \n",
    "on a.product_id = b.product_id"
   ]
  },
  {
   "cell_type": "markdown",
   "metadata": {},
   "source": [
    "1069 - Product Sales Analysis II\n"
   ]
  },
  {
   "cell_type": "code",
   "execution_count": null,
   "metadata": {},
   "outputs": [],
   "source": [
    "# Write your MySQL query statement below\n",
    "select product_id, sum(quantity) as total_quantity\n",
    "from Sales\n",
    "group by 1\n",
    "order by 1 "
   ]
  },
  {
   "cell_type": "markdown",
   "metadata": {},
   "source": [
    "1082 - Sales Analysis I\n",
    "\n",
    "Write an SQL query that reports the best seller by total sales price, If there is a tie, report them all.\n",
    "\n"
   ]
  },
  {
   "cell_type": "code",
   "execution_count": null,
   "metadata": {},
   "outputs": [],
   "source": [
    "# Write your MySQL query statement below\n",
    "# group by seller_id, sum total prices \n",
    "# find top sellers \n",
    "select seller_id  \n",
    "from (\n",
    "        select seller_id, sum(price) as total_price \n",
    "        from Sales \n",
    "        group by seller_id) tmp \n",
    "where total_price in (\n",
    "select max(tot)\n",
    "    from (\n",
    "select seller_id, sum(price) as tot\n",
    "    from Sales group by seller_id) tmp2\n",
    "  )\n"
   ]
  },
  {
   "cell_type": "code",
   "execution_count": null,
   "metadata": {},
   "outputs": [],
   "source": [
    "/* Write your T-SQL query statement below */\n",
    "with tmp as (\n",
    "    select seller_id, sum(price) as total_price \n",
    "    from Sales \n",
    "    group by seller_id )\n",
    "    \n",
    "select seller_id\n",
    "from tmp \n",
    "where total_price in (\n",
    "select max(total_price) from tmp\n",
    ")\n",
    "\n",
    "\n",
    "-- WITH sales_tb AS\n",
    "-- (SELECT seller_id, SUM(price) AS price\n",
    "-- FROM Sales\n",
    "-- GROUP BY seller_id)\n",
    "-- SELECT seller_id\n",
    "-- FROM sales_tb \n",
    "-- WHERE price = \n",
    "-- (SELECT max(price) FROM sales_tb)"
   ]
  },
  {
   "cell_type": "markdown",
   "metadata": {},
   "source": [
    "1086 - High Five\n",
    "\n",
    "Given a list of scores of different students, return the average score of each student's top five scores in the order of each student's id.\n",
    "\n",
    "Each entry items[i] has items[i][0] the student's id, and items[i][1] the student's score.  The average score is calculated using integer division.\n",
    "\n",
    " \n",
    "\n",
    "Example 1:\n",
    "\n",
    "Input: [[1,91],[1,92],[2,93],[2,97],[1,60],[2,77],[1,65],[1,87],[1,100],[2,100],[2,76]]\n",
    "    \n",
    "Output: [[1,87],[2,88]]"
   ]
  },
  {
   "cell_type": "code",
   "execution_count": null,
   "metadata": {},
   "outputs": [],
   "source": [
    "# hash table and heap \n",
    "from heapq import heappush, heappop \n",
    "class Solution(object):\n",
    "    def highFive(self, items):\n",
    "        \"\"\"\n",
    "        :type items: List[List[int]]\n",
    "        :rtype: List[List[int]]\n",
    "        \"\"\"\n",
    "        if not items:\n",
    "            return []\n",
    "        # hash table with key = id, value = top 5 scores \n",
    "        hash_table = {}\n",
    "        for item in items:\n",
    "            if item[0] not in hash_table:\n",
    "                hash_table[item[0]] = []\n",
    "                heappush(hash_table[item[0]], item[1])\n",
    "            else:\n",
    "                heappush(hash_table[item[0]], item[1])\n",
    "                if len(hash_table[item[0]]) > 5:\n",
    "                    heappop(hash_table[item[0]])\n",
    "        # print(hash_table)\n",
    "        results = []\n",
    "        for ids in hash_table:\n",
    "            results.append([ids, sum(hash_table[ids]) / len(hash_table[ids])])\n",
    "        return results \n",
    "        "
   ]
  },
  {
   "cell_type": "markdown",
   "metadata": {},
   "source": [
    "1099 - Two Sum Less Than K\n",
    "\n",
    "Given an array A of integers and integer K, return the maximum S such that there exists i < j with A[i] + A[j] = S and S < K. If no i, j exist satisfying this equation, return -1.\n",
    "\n",
    " \n",
    "\n",
    "Example 1:\n",
    "\n",
    "Input: A = [34,23,1,24,75,33,54,8], K = 60\n",
    "    \n",
    "Output: 58"
   ]
  },
  {
   "cell_type": "code",
   "execution_count": null,
   "metadata": {},
   "outputs": [],
   "source": [
    "# two pointers \n",
    "# as cloest sum number can be combinations of any two numbers as long as their sum < K, \n",
    "# loop through all qualified pairs and use a global variable to record the current cloest sum  \n",
    "class Solution(object):\n",
    "    def twoSumLessThanK(self, A, K):\n",
    "        \"\"\"\n",
    "        :type A: List[int]\n",
    "        :type K: int\n",
    "        :rtype: int\n",
    "        \"\"\"\n",
    "        if not A:\n",
    "            return -1 \n",
    "        # sort \n",
    "        A.sort()\n",
    "        left, right = 0, len(A) - 1 \n",
    "        # initialization \n",
    "        cloest = None\n",
    "        \n",
    "        while left < right:\n",
    "            while left < right and A[left] + A[right] >= K:\n",
    "                right -= 1 \n",
    "            while left < right and A[left] + A[right] < K:\n",
    "                # if cloest is not set yet \n",
    "                if cloest == None:\n",
    "                    cloest = A[left] + A[right]\n",
    "                else: \n",
    "                    # if there is already \n",
    "                    if (K - A[left] - A[right]) < (K - cloest):\n",
    "                        cloest = A[left] + A[right]\n",
    "                left += 1 \n",
    "                \n",
    "        return cloest if cloest is not None else -1 \n",
    "        "
   ]
  }
 ],
 "metadata": {
  "kernelspec": {
   "display_name": "Python 3",
   "language": "python",
   "name": "python3"
  },
  "language_info": {
   "codemirror_mode": {
    "name": "ipython",
    "version": 3
   },
   "file_extension": ".py",
   "mimetype": "text/x-python",
   "name": "python",
   "nbconvert_exporter": "python",
   "pygments_lexer": "ipython3",
   "version": "3.6.8"
  }
 },
 "nbformat": 4,
 "nbformat_minor": 2
}
